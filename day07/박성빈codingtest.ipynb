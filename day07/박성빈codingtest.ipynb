{
 "cells": [
  {
   "cell_type": "markdown",
   "metadata": {},
   "source": [
    "## 1번문제"
   ]
  },
  {
   "cell_type": "code",
   "execution_count": 21,
   "metadata": {},
   "outputs": [],
   "source": [
    "def Full():\n",
    "    global SIZE, stack, top\n",
    "    if (top >= SIZE - 1):\n",
    "        return True\n",
    "    else:\n",
    "        return False"
   ]
  },
  {
   "cell_type": "code",
   "execution_count": 22,
   "metadata": {},
   "outputs": [],
   "source": [
    "def Empty():\n",
    "    global SIZE, stack, top\n",
    "    if (top == - 1):\n",
    "        return True\n",
    "    else:\n",
    "        return False"
   ]
  },
  {
   "cell_type": "code",
   "execution_count": 23,
   "metadata": {},
   "outputs": [],
   "source": [
    "def push(data):\n",
    "    global SIZE, stack, top\n",
    "    if (Full()):\n",
    "        print('스택이 꽉 찼습니다.')\n",
    "        return\n",
    "    top += 1\n",
    "    stack[top] = data"
   ]
  },
  {
   "cell_type": "code",
   "execution_count": 24,
   "metadata": {},
   "outputs": [],
   "source": [
    "def pop():\n",
    "    global SIZE, stack, top\n",
    "    if (Empty()):\n",
    "        print('스택이 비었습니다.')\n",
    "        return None\n",
    "    data = stack[top]\n",
    "    stack[top] = None\n",
    "    top -= 1\n",
    "    return data"
   ]
  },
  {
   "cell_type": "code",
   "execution_count": 25,
   "metadata": {},
   "outputs": [],
   "source": [
    "def peek():\n",
    "    global SIZE, stack, top\n",
    "    if (Empty()):\n",
    "        print('스택이 비었습니다.')\n",
    "        return None\n",
    "    return stack[top]"
   ]
  },
  {
   "cell_type": "code",
   "execution_count": 26,
   "metadata": {},
   "outputs": [
    {
     "name": "stdout",
     "output_type": "stream",
     "text": [
      "스택 상태 : ['녹차', None, None, None, None]\n",
      "스택 상태 : ['녹차', '커피', None, None, None]\n",
      "스택 상태 : ['녹차', '커피', '꿀물', None, None]\n",
      "확인된 데이터 ==>  꿀물\n",
      "스택 상태 :  ['녹차', '커피', '꿀물', None, None]\n",
      "확인된 데이터 ==>  꿀물\n",
      "스택 상태 :  ['녹차', '커피', '꿀물', None, None]\n",
      "추출된 데이터 ==>  꿀물\n",
      "스택 상태 ['녹차', '커피', None, None, None]\n",
      "추출된 데이터 ==>  커피\n",
      "스택 상태 ['녹차', None, None, None, None]\n",
      "추출된 데이터 ==>  녹차\n",
      "스택 상태 [None, None, None, None, None]\n",
      "프로그램 종료!\n"
     ]
    }
   ],
   "source": [
    "SIZE = int(input(\"스택 크기를 입력하세요 ==> \"))\n",
    "stack = [None for _ in range(SIZE)]\n",
    "top = -1\n",
    "\n",
    "if __name__ == '__main__':\n",
    "    select = input('삽입(I)/추출(E)/확인(V)/종료(X) 중 하나를 선택 ==> ')\n",
    "\n",
    "    while (select != 'X' and select != 'x'):\n",
    "        if select == 'I' or select == 'i':\n",
    "            data = input('입력할 데이터 ==> ')\n",
    "            push(data)\n",
    "            print('스택 상태 :', stack)\n",
    "        elif select == 'E' or select == 'e':\n",
    "            data = pop()\n",
    "            print('추출된 데이터 ==> ', data)\n",
    "            print('스택 상태', stack)\n",
    "        elif select == 'V' or select == 'v':\n",
    "            data = peek()\n",
    "            print('확인된 데이터 ==> ', data)\n",
    "            print('스택 상태 : ', stack)\n",
    "        else:\n",
    "            print('입력이 잘못됨')\n",
    "\n",
    "        select = input('삽입(I)/추출(E)/확인(V)/종료(X) 중 하나를 선택 ==> ')\n",
    "\n",
    "    print('프로그램 종료!')"
   ]
  },
  {
   "cell_type": "markdown",
   "metadata": {},
   "source": [
    "## 2번문제"
   ]
  },
  {
   "cell_type": "code",
   "execution_count": 59,
   "metadata": {},
   "outputs": [],
   "source": [
    "def isQueueFull():\n",
    "    global SIZE, queue, front, rear\n",
    "    # if (rear == SIZE -1):\n",
    "    #     return True\n",
    "    # else:\n",
    "    #     return False\n",
    "    if rear != (SIZE -1): # 큐가 아직 빈상태\n",
    "        return False\n",
    "    elif rear == (SIZE-1) and front == -1: # 큐가 꽉 찬 상태\n",
    "        return True\n",
    "    else: # 큐가 앞쪽이 비어있는 상태, rear가 끝까지 간 상태\n",
    "        while front != -1: # 완전히 앞으로 당긴다. front가 -1이될때까지\n",
    "            for i in range(front+1, SIZE):\n",
    "                queue[i-1] = queue[i] # front에다가 front +1의 값을 할당\n",
    "                queue[i] = None\n",
    "            front -= 1\n",
    "            rear = -1\n",
    "        return False"
   ]
  },
  {
   "cell_type": "code",
   "execution_count": 60,
   "metadata": {},
   "outputs": [],
   "source": [
    "def isQueueEmpty():\n",
    "    global front, rear\n",
    "    if front == rear:\n",
    "        return True\n",
    "    else:\n",
    "        return False"
   ]
  },
  {
   "cell_type": "code",
   "execution_count": 61,
   "metadata": {},
   "outputs": [],
   "source": [
    "def enQueue(data):\n",
    "    # global SIZE, queue, front, rear\n",
    "    # if (isQueueFull()):\n",
    "    #     print('큐가 꽉 찼습니다.')\n",
    "    #     return\n",
    "    # rear += 1\n",
    "    # queue[rear] = data\n",
    "    \n",
    "    global queue, rear\n",
    "    if isQueueFull() == True: # queue가 꽉차서 데이터 입력불가\n",
    "        print('큐가 꽉찼습니다')\n",
    "        return # 함수탈출\n",
    "    else:\n",
    "        rear += 1\n",
    "        queue[rear] = data\n"
   ]
  },
  {
   "cell_type": "code",
   "execution_count": 62,
   "metadata": {},
   "outputs": [],
   "source": [
    "def deQueue():\n",
    "    # global SIZE, queue, front, rear\n",
    "    # if (isQueueEmpty()):\n",
    "    #     print('큐가 비었습니다.')\n",
    "    #     return None\n",
    "    # front += 1\n",
    "    # data = queue[front]\n",
    "    # queue[front] = None\n",
    "\n",
    "    # for i in range(front + 1, rear +1):\n",
    "    #     queue[i-1] = queue[i]\n",
    "    #     queue[i] = None\n",
    "    # front = -1\n",
    "    # rear -= -1\n",
    "\n",
    "    # return datadef deQueue():\n",
    "    global queue, front\n",
    "    if isQueueEmpty() == True:\n",
    "        print('큐가 비었습니다')\n",
    "        return\n",
    "    else:\n",
    "        front += 1\n",
    "        data = queue[front]\n",
    "        queue[front] = None\n",
    "        return data\n"
   ]
  },
  {
   "cell_type": "code",
   "execution_count": 63,
   "metadata": {},
   "outputs": [],
   "source": [
    "def peek():\n",
    "    # global SIZE, queue, front, rear\n",
    "    # if (isQueueEmpty()):\n",
    "    #     print('큐가 비었습니다.')\n",
    "    #     return None\n",
    "    # return queue[front+1]\n",
    "    global queue, front\n",
    "    if isQueueEmpty() == True:\n",
    "        print('큐가 비었습니다')\n",
    "        return None\n",
    "    else:\n",
    "        return queue[front+1]"
   ]
  },
  {
   "cell_type": "code",
   "execution_count": 65,
   "metadata": {},
   "outputs": [
    {
     "name": "stdout",
     "output_type": "stream",
     "text": [
      "대기 줄 상태 : ['정국', None, None, None, None]\n",
      "대기 줄 상태 : ['정국', '뷔', None, None, None]\n",
      "대기 줄 상태 : ['정국', '뷔', '지민', None, None]\n",
      "대기 줄 상태 : ['정국', '뷔', '지민', '진', None]\n",
      "대기 줄 상태 : ['정국', '뷔', '지민', '진', '슈가']\n",
      "정국님 식당에 들어감\n",
      "대기 줄 상태 : [None, '뷔', '지민', '진', '슈가']\n",
      "뷔님 식당에 들어감\n",
      "대기 줄 상태 : [None, None, '지민', '진', '슈가']\n",
      "지민님 식당에 들어감\n",
      "대기 줄 상태 : [None, None, None, '진', '슈가']\n",
      "진님 식당에 들어감\n",
      "대기 줄 상태 : [None, None, None, None, '슈가']\n",
      "슈가님 식당에 들어감\n",
      "대기 줄 상태 : [None, None, None, None, None]\n",
      "식당 영업 종료!\n"
     ]
    }
   ],
   "source": [
    "SIZE = 5\n",
    "queue = [None for _ in range(SIZE)]\n",
    "front = rear = -1\n",
    "\n",
    "if __name__ == '__main__':\n",
    "    while True:\n",
    "        select = input('삽입(e), 추출(d), 확인(p), 종료(x) > ')\n",
    "\n",
    "        if select.lower() == 'e':\n",
    "            data = input('입력 데이터 > ')\n",
    "            enQueue(data)\n",
    "            print(f'대기 줄 상태 : {queue}')\n",
    "        elif select.lower() == 'd':\n",
    "            data = deQueue()\n",
    "            print(f'{data}님 식당에 들어감')\n",
    "            print(f'대기 줄 상태 : {queue}')\n",
    "        elif select.lower() == 'p':\n",
    "            data = peek()\n",
    "            print(f'대기 줄 상태 : {queue}')\n",
    "        elif select.lower() == 'x':\n",
    "            break\n",
    "        else:\n",
    "            continue\n",
    "\n",
    "    # enQueue('정국')\n",
    "    # enQueue('뷔')\n",
    "    # enQueue('지민')\n",
    "    # enQueue('진')\n",
    "    # enQueue('슈가')\n",
    "    # print('대기 줄 상태 : ', queue)\n",
    "\n",
    "    # while True:\n",
    "    #     for _ in range(rear+1):\n",
    "    #         print(deQueue(), '님 식당에 들어감')\n",
    "    #         print('대기 줄 상태 : ', queue)\n",
    "    \n",
    "\n",
    "    print('식당 영업 종료!')"
   ]
  },
  {
   "cell_type": "markdown",
   "metadata": {},
   "source": [
    "## 3번문제"
   ]
  },
  {
   "cell_type": "code",
   "execution_count": 38,
   "metadata": {},
   "outputs": [],
   "source": [
    "import random"
   ]
  },
  {
   "cell_type": "code",
   "execution_count": 39,
   "metadata": {},
   "outputs": [],
   "source": [
    "class TreeNode():\n",
    "    def __init__(self):\n",
    "        self.left = None\n",
    "        self.data = None\n",
    "        self.right = None        "
   ]
  },
  {
   "cell_type": "code",
   "execution_count": 40,
   "metadata": {},
   "outputs": [
    {
     "name": "stdout",
     "output_type": "stream",
     "text": [
      "오늘 판매된 물건(중복0) -->  ['코카콜라', '삼다수', '바나나맛우유', '레쓰빈캔커피', '코카콜라', '삼각김밥', '바나나맛우유', '도시락', '도시락', '츄파츕스', '도시락', '코카콜라', '츄파츕스', '츄파츕스', '츄파츕스', '삼각김밥', '코카콜라', '삼다수', '레쓰빈캔커피', '레쓰빈캔커피']\n",
      "이진 탐색 트리 구성 완료!\n",
      "오늘 판매된 종류(중복X) -->  코카콜라 삼다수 바나나맛우유 레쓰빈캔커피 도시락 삼각김밥 츄파츕스 "
     ]
    }
   ],
   "source": [
    "memory = []\n",
    "root = None\n",
    "dataAry = ['바나나맛우유', '레쓰빈캔커피', '츄파츕스', '도시락', '삼다수', '코카콜라', '삼각김밥']\n",
    "sellAry = [random.choice(dataAry)for _ in range(20)]\n",
    "\n",
    "print('오늘 판매된 물건(중복0) --> ', sellAry)\n",
    "\n",
    "node = TreeNode()\n",
    "node.data = sellAry[0]\n",
    "root = node\n",
    "memory.append(node)\n",
    "\n",
    "for name in sellAry[1:]:\n",
    "    node = TreeNode()\n",
    "    node.data = name\n",
    "    current = root\n",
    "    while True:\n",
    "        if name == current.data:\n",
    "            break\n",
    "        if name < current.data:\n",
    "            if current.left == None:\n",
    "                current.left = node\n",
    "                memory.append(node)\n",
    "                break\n",
    "            current = current.left\n",
    "        else:\n",
    "            if current.right == None:\n",
    "                current.right = node\n",
    "                memory.append(node)\n",
    "                break\n",
    "            current = current.right\n",
    "\n",
    "print('이진 탐색 트리 구성 완료!')\n",
    "\n",
    "def preoder(node):\n",
    "    if node == None:\n",
    "        return\n",
    "    print(node.data, end=' ')\n",
    "    preoder(node.left)\n",
    "    preoder(node.right)\n",
    "\n",
    "print('오늘 판매된 종류(중복X) --> ', end=' ')\n",
    "preoder(root)"
   ]
  }
 ],
 "metadata": {
  "kernelspec": {
   "display_name": "Python 3",
   "language": "python",
   "name": "python3"
  },
  "language_info": {
   "codemirror_mode": {
    "name": "ipython",
    "version": 3
   },
   "file_extension": ".py",
   "mimetype": "text/x-python",
   "name": "python",
   "nbconvert_exporter": "python",
   "pygments_lexer": "ipython3",
   "version": "3.11.5"
  }
 },
 "nbformat": 4,
 "nbformat_minor": 2
}
